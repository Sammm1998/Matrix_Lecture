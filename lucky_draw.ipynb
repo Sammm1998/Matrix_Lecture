{
 "cells": [
  {
   "cell_type": "markdown",
   "metadata": {},
   "source": [
    "To select the lucky one"
   ]
  },
  {
   "cell_type": "code",
   "execution_count": 28,
   "metadata": {},
   "outputs": [
    {
     "name": "stdout",
     "output_type": "stream",
     "text": [
      "Press any key to select a lucky one except 'q': 1\n",
      "The lucky one is 131, 杨海锋\n",
      "Press any key to select a lucky one except 'q': 2\n",
      "The lucky one is 106, 罗国政\n",
      "Press any key to select a lucky one except 'q': 3\n",
      "The lucky one is 111, 宋海洲\n",
      "Press any key to select a lucky one except 'q': q\n",
      "Draw is over. 3 questions have been asked.\n"
     ]
    }
   ],
   "source": [
    "import random\n",
    "import pandas as pd\n",
    "class_table = pd.read_excel(r'C:\\Users\\Administrator\\Documents\\class_list_2020.xls')\n",
    "class_table.set_index('序号', inplace=True)\n",
    "\n",
    "question_count = 0\n",
    "while True:\n",
    "    cmd_key = input(\"Press any key to select a lucky one except 'q': \")\n",
    "    question_count += 1\n",
    "    if question_count >= 20 or cmd_key == \"q\":\n",
    "        print(f\"Draw is over. {question_count-1} questions have been asked.\")\n",
    "        break\n",
    "    else:\n",
    "        lucky_num = random.randint(1, 155)\n",
    "        lucky_one = class_table.姓名[lucky_num]\n",
    "        print(f'The lucky one is {lucky_num}, {lucky_one}')"
   ]
  }
 ],
 "metadata": {
  "kernelspec": {
   "display_name": "Python 3",
   "language": "python",
   "name": "python3"
  },
  "language_info": {
   "codemirror_mode": {
    "name": "ipython",
    "version": 3
   },
   "file_extension": ".py",
   "mimetype": "text/x-python",
   "name": "python",
   "nbconvert_exporter": "python",
   "pygments_lexer": "ipython3",
   "version": "3.8.5"
  }
 },
 "nbformat": 4,
 "nbformat_minor": 4
}
